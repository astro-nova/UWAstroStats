{
 "cells": [
  {
   "cell_type": "markdown",
   "id": "c4f9a492",
   "metadata": {},
   "source": [
    "# Assignment 2 - SED Fitting\n",
    "\n",
    "## Machine Learning Techniques"
   ]
  },
  {
   "cell_type": "markdown",
   "id": "d29cfd0a",
   "metadata": {},
   "source": [
    "# STEP 1 - Supervised Machine Learning\n",
    "\n",
    "Train a model to predict photo-z from training sample subset"
   ]
  },
  {
   "cell_type": "markdown",
   "id": "68c435a6",
   "metadata": {},
   "source": [
    "# STEP 2  - Unsupervised Machine learning\n",
    "\n",
    "Self-supervised maps, clustering"
   ]
  },
  {
   "cell_type": "markdown",
   "id": "237b7702",
   "metadata": {},
   "source": [
    "# STEP 3 - Data Compression\n",
    "\n",
    "PCA/UMAP/MOPED"
   ]
  },
  {
   "cell_type": "code",
   "execution_count": null,
   "id": "a8544d72",
   "metadata": {},
   "outputs": [],
   "source": []
  }
 ],
 "metadata": {
  "kernelspec": {
   "display_name": "Python 3 (ipykernel)",
   "language": "python",
   "name": "python3"
  },
  "language_info": {
   "codemirror_mode": {
    "name": "ipython",
    "version": 3
   },
   "file_extension": ".py",
   "mimetype": "text/x-python",
   "name": "python",
   "nbconvert_exporter": "python",
   "pygments_lexer": "ipython3",
   "version": "3.11.0"
  }
 },
 "nbformat": 4,
 "nbformat_minor": 5
}
