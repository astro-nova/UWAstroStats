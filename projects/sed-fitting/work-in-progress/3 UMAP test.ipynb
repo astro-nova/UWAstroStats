{
 "cells": [
  {
   "cell_type": "code",
   "execution_count": 1,
   "id": "a36db742-1657-46dd-a993-a62f6b1cb0e8",
   "metadata": {},
   "outputs": [
    {
     "name": "stderr",
     "output_type": "stream",
     "text": [
      "2024-03-12 15:19:38.812573: I tensorflow/core/platform/cpu_feature_guard.cc:193] This TensorFlow binary is optimized with oneAPI Deep Neural Network Library (oneDNN) to use the following CPU instructions in performance-critical operations:  SSE4.1 SSE4.2 AVX AVX2 AVX512F AVX512_VNNI FMA\n",
      "To enable them in other operations, rebuild TensorFlow with the appropriate compiler flags.\n"
     ]
    }
   ],
   "source": [
    "from astropy.io import fits\n",
    "from astropy.table import Table\n",
    "import umap\n",
    "from sklearn.preprocessing import StandardScaler, RobustScaler\n",
    "import matplotlib.pyplot as plt"
   ]
  },
  {
   "cell_type": "code",
   "execution_count": 2,
   "id": "3eeb8f12-8438-4cff-ab17-8232baf755cf",
   "metadata": {},
   "outputs": [],
   "source": [
    "dataf = fits.open('../data/sw_input.fits')\n",
    "data = Table(dataf[1].data).to_pandas()\n",
    "dataf.close()"
   ]
  },
  {
   "cell_type": "code",
   "execution_count": 7,
   "id": "6d313695-0d1d-41ea-b36f-7a7d6cfce394",
   "metadata": {},
   "outputs": [],
   "source": [
    "reducer = umap.UMAP()"
   ]
  },
  {
   "cell_type": "code",
   "execution_count": 4,
   "id": "fffe193c-f7ef-482e-9ffc-610a21fe14a0",
   "metadata": {},
   "outputs": [],
   "source": [
    "cols = ['flux_u', 'flux_g', 'flux_r', 'flux_i', 'flux_z']#, 'flux_w1', 'flux_w2', \n",
    "         # 'flux_w3', 'flux_w4' ]\n",
    "\n",
    "sample = data[cols].sample(n=2000)\n",
    "umap_data = RobustScaler().fit_transform(sample.values)"
   ]
  },
  {
   "cell_type": "code",
   "execution_count": 10,
   "id": "92528fea-1198-4ef6-872b-1ccd4c3c0658",
   "metadata": {},
   "outputs": [
    {
     "name": "stdout",
     "output_type": "stream",
     "text": [
      "CPU times: user 21.2 s, sys: 2 s, total: 23.2 s\n",
      "Wall time: 14.5 s\n"
     ]
    }
   ],
   "source": [
    "%%time\n",
    "embedding = reducer.fit_transform(umap_data)\n",
    "# embedding.shape\n",
    "\n",
    "# embedding = umap_data"
   ]
  },
  {
   "cell_type": "code",
   "execution_count": null,
   "id": "c94d0fe4-2199-417f-b4aa-33e3d3a5daf7",
   "metadata": {},
   "outputs": [],
   "source": [
    "    "
   ]
  },
  {
   "cell_type": "code",
   "execution_count": 15,
   "id": "9e07179c-cd59-419e-8d64-046462242677",
   "metadata": {},
   "outputs": [
    {
     "data": {
      "text/plain": [
       "(-4.0, 7.0)"
      ]
     },
     "execution_count": 15,
     "metadata": {},
     "output_type": "execute_result"
    },
    {
     "data": {
      "image/png": "[encoded data removed]",
      "text/plain": [
       "<Figure size 250x250 with 1 Axes>"
      ]
     },
     "metadata": {},
     "output_type": "display_data"
    }
   ],
   "source": [
    "plt.scatter(\n",
    "    embedding[:, 0],\n",
    "    embedding[:, 1],\n",
    "    alpha=0.1\n",
    "    # c = sample['flux_g']/sample['flux_i']\n",
    ")\n",
    "\n",
    "plt.xlim(-4,7)\n",
    "plt.ylim(-4,7)\n"
   ]
  },
  {
   "cell_type": "code",
   "execution_count": 15,
   "id": "2768297d-272a-4071-ae50-fbbca41c51e7",
   "metadata": {},
   "outputs": [],
   "source": []
  },
  {
   "cell_type": "code",
   "execution_count": null,
   "id": "7c6248b2-6304-4a8f-b06b-b0eafc6108c4",
   "metadata": {},
   "outputs": [],
   "source": []
  }
 ],
 "metadata": {
  "kernelspec": {
   "display_name": "Python 3 (ipykernel)",
   "language": "python",
   "name": "python3"
  },
  "language_info": {
   "codemirror_mode": {
    "name": "ipython",
    "version": 3
   },
   "file_extension": ".py",
   "mimetype": "text/x-python",
   "name": "python",
   "nbconvert_exporter": "python",
   "pygments_lexer": "ipython3",
   "version": "3.9.16"
  }
 },
 "nbformat": 4,
 "nbformat_minor": 5
}
