{
 "cells": [
  {
   "cell_type": "markdown",
   "metadata": {},
   "source": [
    "# We are not providing you with any code for this assignment, so you must code everything yourself. However, we are providing you with an example notebook on how to run an MCMC.\n",
    "# Furthermore, we provide a noise-free and noisy reference model from which you must derive parameters. Lastly, we give you three noisy covariance matrices.\n",
    "# We recommend running the MCMC not in a Jupyter Notebook but instead using an external Python script."
   ]
  },
  {
   "cell_type": "code",
   "execution_count": null,
   "metadata": {},
   "outputs": [],
   "source": [
    "import matplotlib.pyplot as plt\n",
    "import random\n",
    "import numpy as np\n",
    "from numpy.linalg import inv\n",
    "from cosmopower_NN import cosmopower_NN\n",
    "import tensorflow as tf\n",
    "import gc"
   ]
  },
  {
   "cell_type": "code",
   "execution_count": 2,
   "metadata": {},
   "outputs": [],
   "source": [
    "cov=np.load('data_4_assignment3/covariance.npy')\n",
    "cov_inv = inv(cov)\n",
    "\n",
    "minimum=np.load('data_4_assignment3/minimum.npy')\n",
    "maximum=np.load('data_4_assignment3/maximum.npy')\n",
    "\n",
    "reference_model = np.load('data_4_assignment3/reference_model.npy')\n",
    "reference_model_noisy = np.load('data_4_assignment3/reference_model_noise.npy')\n",
    "\n",
    "cp_nn_model = cosmopower_NN(restore=True, restore_filename='data_4_assignment3/emulator_final')\n",
    "\n",
    "cov_num_1500 = np.load('data_4_assignment3/cov_num_1500.npy')\n",
    "cov_num_3000 = np.load('data_4_assignment3/cov_num_3000.npy')\n",
    "cov_num_10000 = np.load('data_4_assignment3/cov_num_10000.npy')"
   ]
  },
  {
   "cell_type": "markdown",
   "metadata": {},
   "source": [
    "## You can use any sampler you like to use for the following tasks. Also, you can use your own emulator. You must use the noisy reference model for the first three tasks. Check for each task that the posteriors and the $\\chi^2$ distributions are as expected.\n",
    "## Your tasks for this week are the following:\n",
    "\n",
    "### 1. Run an MCMC where you vary all four parameters you have trained on your emulator.\n",
    "### 2. Use the provided numerical covariance matrices with [1.5k,3k,10k] data vectors as in assignment one. Run an MCMC for all of them with and without Hartlap correction, and compare with your results. Link your results to assignment one.\n",
    "### 3. Next, we consider PCA data compression. Run an MCMC for several numbers of PCA elements. Link your results to assignment two.\n",
    "####    3.a. Use the analytical covariance matrix.\n",
    "####    3.b. Use the 1.5k covariance matrix. Do you observe the same trend as in 3.a?\n",
    "### 4. Run task 3 with the noise-free reference model. What difference do you observe in the MCMC chain and the corresponding $\\chi^2$ distributions?\n",
    "#### 4.a Plot and compare the marginalised constraints on $\\Omega_\\mathrm{m}$ and $A_s$, as a function of the number of PCA elements. What do you observe?\n",
    "#### 4.b To check if your answer in 4.a is robust, run multiple MCMC chains with the 1.5 covariance matrix and a fixed number of PCA elements. How big are the variations on the marginalised errors on $\\Omega_\\mathrm{m}$ and $A_s$? Is your answer in 4.a reliable? What can you improve to make 4.a reliable?\n",
    "\n",
    "### 5. Bonus: Use an MCMC sampler not described in the attached notebook. Compare its performance (speed, accuracy) to the samplers we provided.\n",
    "###"
   ]
  },
  {
   "cell_type": "markdown",
   "metadata": {},
   "source": []
  }
 ],
 "metadata": {
  "kernelspec": {
   "display_name": "Python 3 (ipykernel)",
   "language": "python",
   "name": "python3"
  },
  "language_info": {
   "codemirror_mode": {
    "name": "ipython",
    "version": 3
   },
   "file_extension": ".py",
   "mimetype": "text/x-python",
   "name": "python",
   "nbconvert_exporter": "python",
   "pygments_lexer": "ipython3",
   "version": "3.9.18"
  }
 },
 "nbformat": 4,
 "nbformat_minor": 4
}
