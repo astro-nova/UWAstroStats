{
 "cells": [
  {
   "cell_type": "markdown",
   "metadata": {},
   "source": [
    "# In this assignment we learn about numerical stabiity of the covariance matrix, fitting $\\chi^2$ distributions, to correct for the Hartlap factor."
   ]
  },
  {
   "cell_type": "markdown",
   "metadata": {},
   "source": [
    "## For this assignment no external packages are required. You just need a running conda environment, where numpy and matplotlib are installed."
   ]
  },
  {
   "cell_type": "code",
   "execution_count": null,
   "metadata": {},
   "outputs": [],
   "source": [
    "import matplotlib.pyplot as plt\n",
    "import random\n",
    "import numpy as np\n",
    "from numpy.linalg import inv\n",
    "from scipy.special import gamma, factorial\n",
    "from scipy.optimize import curve_fit\n",
    "from scipy.stats import chi2 as chi2_scp"
   ]
  },
  {
   "cell_type": "markdown",
   "metadata": {},
   "source": [
    "## Preparation: load in the data we need for this assignment."
   ]
  },
  {
   "cell_type": "code",
   "execution_count": null,
   "metadata": {},
   "outputs": [],
   "source": [
    "model=np.load('data_4_assignment1/reference_model.npy') # This will be our reference model\n",
    "cov=np.load('data_4_assignment1/covariance.npy') # This is the analytical covariance matrix, which we assume is the true covariance of the data"
   ]
  },
  {
   "cell_type": "markdown",
   "metadata": {},
   "source": [
    "## Task 1: Create two sets of 10000 noisy Gaussian data vectors each using the provided reference model and true covariance matrix. "
   ]
  },
  {
   "cell_type": "code",
   "execution_count": null,
   "metadata": {},
   "outputs": [],
   "source": [
    "noisy_data_set1=np.random.multivariate_normal()\n",
    "noisy_data_set2 = ..."
   ]
  },
  {
   "cell_type": "code",
   "execution_count": null,
   "metadata": {},
   "outputs": [],
   "source": [
    "# check that the noisy data vector scatter around the truth\n"
   ]
  },
  {
   "cell_type": "markdown",
   "metadata": {},
   "source": [
    "## Task 2: \n",
    "#### Use the provided covariance matrix and the model as a reference.\n",
    "### 2.1: Test if set 1 follows a $\\chi^2$ distribution with the correct degrees of freedom, by measuring its mean and variance. \n",
    "### 2.2: Convince yourself, that the measured $\\chi^2$ follows a $\\chi^2$ distribution."
   ]
  },
  {
   "cell_type": "code",
   "execution_count": null,
   "metadata": {},
   "outputs": [],
   "source": [
    "inv_cov = inv(cov)\n",
    "chi2 = []\n",
    "# compute the chi^2 for all dv \n",
    "    \n",
    "\n",
    "# What should the mean and variance should be?\n",
    "\n",
    "\n",
    "# is the overall distribution right?\n",
    "\n",
    "hist=np.histogram(...)\n",
    "plt.plot(...)\n",
    "\n",
    "plt.plot(...,chi2_scp.pdf(...,...))"
   ]
  },
  {
   "cell_type": "markdown",
   "metadata": {},
   "source": [
    "### After convincing us that the two sets actually follow a $\\chi^2$ distribution, if we use the analytical covariance matrix, we want to check if that is also true if we measure the covariance matrix from simulations. \n",
    "### As running simulations is too expensive, we simulate measurements from simulations with the created set 2. \n",
    "### Task 3: As a preparation, please measure the numerical covariance matrix from [500,1000,5000,10000] data vectors from set 2. What do you observe in the correlation matrix? Are the covariances positive semi-definite?"
   ]
  },
  {
   "cell_type": "code",
   "execution_count": null,
   "metadata": {},
   "outputs": [],
   "source": [
    "cov_num500 = np.cov(...)\n",
    "cov_num1000 = np.cov(...)\n",
    "cov_num5000 = np.cov(...)\n",
    "cov_num10000 = np.cov(...)"
   ]
  },
  {
   "cell_type": "code",
   "execution_count": null,
   "metadata": {},
   "outputs": [],
   "source": [
    "plt.imshow(cov_num500/np.outer(...))\n",
    "plt.show()\n",
    "\n"
   ]
  },
  {
   "cell_type": "markdown",
   "metadata": {},
   "source": [
    "### Task 4: Test for all four covariance matrices if you recover a $\\chi^2$ distribution with the mean and variance. What do you observe? "
   ]
  },
  {
   "cell_type": "code",
   "execution_count": null,
   "metadata": {},
   "outputs": [],
   "source": [
    "\n",
    "inv_cov = inv(cov_num500)\n",
    "chi2 = []\n",
    "for i in range(10000):\n",
    "    ...\n",
    "plt.hist()\n",
    "\n",
    "#print(mean and variance)\n",
    "\n",
    "#comment your result\n",
    "\n",
    "#Do it for the covariance matrices\n",
    "\n",
    "\n",
    "\n",
    "\n",
    "\n"
   ]
  },
  {
   "cell_type": "markdown",
   "metadata": {},
   "source": [
    "### Task 5: Repeat the same exercise from before, but debias your inverse covriance matrix with the so-called Hartlap factor. What do you observe?"
   ]
  },
  {
   "cell_type": "code",
   "execution_count": null,
   "metadata": {},
   "outputs": [],
   "source": [
    "\n",
    "\n",
    "n_r = # number of realisations used\n",
    "n_d = # diemension of the model \n",
    "h = (n_r-1)/(n_r-n_d-2)\n",
    "\n",
    "inv_cov = inv(cov_num500)/h\n",
    "\n",
    "#.... plot and check mean and variance\n",
    "\n"
   ]
  },
  {
   "cell_type": "markdown",
   "metadata": {},
   "source": [
    "### Task 6: Repeat task 5 again, but this time, test if set 2 also follows a $\\chi^2$ distribution. What do you observe?"
   ]
  },
  {
   "cell_type": "code",
   "execution_count": null,
   "metadata": {},
   "outputs": [],
   "source": [
    "\n",
    "\n",
    "n_r = 500\n",
    "n_d = len(model)\n",
    "h=(n_r-1)/(n_r-n_d-2)\n",
    "\n",
    "inv_cov = inv(cov_num500)/h\n",
    "chi2 = []\n",
    "for i in range(10000):\n",
    "    ...\n",
    "    # use set 2 to compute the chi2\n",
    "    \n",
    "# what is happening in comparison to the taak before?\n",
    "\n",
    "\n"
   ]
  },
  {
   "cell_type": "markdown",
   "metadata": {},
   "source": [
    "### Bonus Task 1: Create a new set of 10000 noisy data vectors using the numerical covariance matrix measured from 1000 noisy data vectors. Is it possible to reduce the noise in the covariance matrix with this method? Test if set 1 follows a $\\chi^2$ distribution which the newly created covaraince matrix. What do you observe?"
   ]
  },
  {
   "cell_type": "code",
   "execution_count": null,
   "metadata": {},
   "outputs": [],
   "source": [
    "noisy_data_set3=np.random.multivariate_normal(...)\n",
    "cov_num10000_set3 = np.cov(...)\n",
    "\n"
   ]
  },
  {
   "cell_type": "markdown",
   "metadata": {},
   "source": [
    "### Bonus task 2: What is the minimum number of data vectors such that the inverse covariance matrix is non-singular? What is an easy tool to test this? Is an analytical covariance matrix always invertible? What can you do if it is not invertible? "
   ]
  },
  {
   "cell_type": "code",
   "execution_count": null,
   "metadata": {},
   "outputs": [],
   "source": []
  },
  {
   "cell_type": "code",
   "execution_count": null,
   "metadata": {},
   "outputs": [],
   "source": []
  }
 ],
 "metadata": {
  "kernelspec": {
   "display_name": "Python 3 (ipykernel)",
   "language": "python",
   "name": "python3"
  },
  "language_info": {
   "codemirror_mode": {
    "name": "ipython",
    "version": 3
   },
   "file_extension": ".py",
   "mimetype": "text/x-python",
   "name": "python",
   "nbconvert_exporter": "python",
   "pygments_lexer": "ipython3",
   "version": "3.9.18"
  }
 },
 "nbformat": 4,
 "nbformat_minor": 4
}
